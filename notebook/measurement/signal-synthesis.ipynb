{
  "cells": [
    {
      "cell_type": "markdown",
      "source": [
        "# Signal synthesis\n",
        "\nIn this notebook we measure the signal output of the direct digital synthesizer."
      ],
      "metadata": {}
    },
    {
      "cell_type": "code",
      "source": [
        "duration = 26.84e-3\n",
        "\n",
        "delays = np.linspace(0, duration, 300)\n",
        "\n",
        "datadir = '../../dataset/signal/synthesis'\n",
        "\nos.makedirs(datadir, exist_ok=True)"
      ],
      "outputs": [],
      "execution_count": 2,
      "metadata": {}
    },
    {
      "cell_type": "code",
      "source": [
        "import control\n",
        "\n",
        "scope = control.MSOX6004A('172.22.22.30')\n",
        "fngen = control.FG33250A2('172.22.22.36')\n",
        "\nscope.holla(), fngen.holla()"
      ],
      "outputs": [],
      "execution_count": null,
      "metadata": {}
    },
    {
      "cell_type": "markdown",
      "source": [
        "Insert the external trigger signal to the back of the Agilent 33220A function generator and connect its output with the external trigger input of the oscilloscope. Let the oscilloscope trigger on falling edge and set the time scale to 20 us. The function generator should be configured to output pulse signals with period of 30 ms. Now connect the channel 1 input of the oscilloscope with the output of the horizontal DDS. Check that the DDS driver server is configured to have the sinc filter turned off.\n",
        "\n## Horizontal DDS"
      ],
      "metadata": {}
    },
    {
      "cell_type": "code",
      "source": [
        "control.aod_h(frequency=[80e6, 120e6], amplitude=np.ones(1024), duration=duration)\n",
        "\n",
        "data = []\n",
        "\n",
        "for t in delays:\n",
        "    fngen.width(t)\n",
        "    \n",
        "    data.append((t, scope.capture()))\n",
        "\n",
        "for (t, df) in data:\n",
        "    df.to_hdf(os.path.join(datadir, 'horizontal-sinc-off.h5'), str(t), format='table', complevel=9)"
      ],
      "outputs": [
        {
          "output_type": "execute_result",
          "execution_count": 8,
          "data": {
            "text/plain": [
              "<Response [204]>"
            ]
          },
          "metadata": {}
        }
      ],
      "execution_count": 8,
      "metadata": {}
    },
    {
      "cell_type": "markdown",
      "source": [
        "Restart the DDS driver server with sinc filter turned on and repeat measurements for this configuration by executing the next cell."
      ],
      "metadata": {}
    },
    {
      "cell_type": "code",
      "source": [
        "control.aod_h(frequency=[80e6, 120e6], amplitude=np.ones(1024), duration=duration)\n",
        "\n",
        "data = []\n",
        "\n",
        "for t in delays:\n",
        "    fngen.width(t)\n",
        "    \n",
        "    data.append((t, scope.capture()))\n",
        "\n",
        "for (t, df) in data:\n",
        "    df.to_hdf(os.path.join(datadir, 'horizontal-sinc-on.h5'), str(t), format='table', complevel=9)"
      ],
      "outputs": [],
      "execution_count": 11,
      "metadata": {}
    },
    {
      "cell_type": "markdown",
      "source": [
        "## Vertical DDS\n",
        "\nNow connect the vertical DDS with the oscillscope output. Check again that the DDS driver has the inverse sinc filter turned off."
      ],
      "metadata": {}
    },
    {
      "cell_type": "code",
      "source": [
        "control.aod_v(frequency=[80e6, 120e6], amplitude=np.ones(1024), duration=duration)\n",
        "\n",
        "data = []\n",
        "\n",
        "for t in delays:\n",
        "    fngen.width(t)\n",
        "    \n",
        "    data.append((t, scope.capture()))\n",
        "\n",
        "for (t, df) in data:\n",
        "    df.to_hdf(os.path.join(datadir, 'vertical-sinc-off.h5'), str(t), format='table', complevel=9)"
      ],
      "outputs": [],
      "execution_count": 12,
      "metadata": {}
    },
    {
      "cell_type": "markdown",
      "source": [
        "As before restart the DDS driver with inverse sinc filter turned on."
      ],
      "metadata": {}
    },
    {
      "cell_type": "code",
      "source": [
        "control.aod_v(frequency=[80e6, 120e6], amplitude=np.ones(1024), duration=duration)\n",
        "\n",
        "data = []\n",
        "\n",
        "for t in delays:\n",
        "    fngen.width(t)\n",
        "    \n",
        "    data.append((t, scope.capture()))\n",
        "\n",
        "for (t, df) in data:\n",
        "    df.to_hdf(os.path.join(datadir, 'vertical-sinc-on.h5'), str(t), format='table', complevel=9)"
      ],
      "outputs": [],
      "execution_count": 13,
      "metadata": {}
    }
  ],
  "metadata": {
    "kernelspec": {
      "name": "python3",
      "language": "python",
      "display_name": "Python 3"
    },
    "language_info": {
      "name": "python",
      "version": "3.6.5",
      "mimetype": "text/x-python",
      "codemirror_mode": {
        "name": "ipython",
        "version": 3
      },
      "pygments_lexer": "ipython3",
      "nbconvert_exporter": "python",
      "file_extension": ".py"
    },
    "kernel_info": {
      "name": "python3"
    },
    "nteract": {
      "version": "0.11.4"
    }
  },
  "nbformat": 4,
  "nbformat_minor": 2
}