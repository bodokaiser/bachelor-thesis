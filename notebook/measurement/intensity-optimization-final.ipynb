{
 "cells": [
  {
   "cell_type": "code",
   "execution_count": 6,
   "metadata": {},
   "outputs": [],
   "source": [
    "import control\n",
    "import numpy as np\n",
    "import pandas as pd\n",
    "\n",
    "from matplotlib import pyplot as plt"
   ]
  },
  {
   "cell_type": "code",
   "execution_count": 16,
   "metadata": {},
   "outputs": [
    {
     "data": {
      "text/plain": [
       "'AGILENT TECHNOLOGIES,MSO-X 4054A,MY57310545,07.20.2017102615\\n'"
      ]
     },
     "execution_count": 16,
     "metadata": {},
     "output_type": "execute_result"
    }
   ],
   "source": [
    "control.aom()\n",
    "control.aod_h(frequency=100e6)\n",
    "control.aod_v(frequency=100e6)\n",
    "\n",
    "scope = control.MSOX6004A('172.22.22.30')\n",
    "scope.holla()"
   ]
  },
  {
   "cell_type": "code",
   "execution_count": 8,
   "metadata": {},
   "outputs": [],
   "source": [
    "# max playback sample interval\n",
    "dT = (2**16 - 1) * 4e-9\n",
    "\n",
    "# frequency sweep duration\n",
    "T = 1024 * dT\n",
    "\n",
    "def interpolate(x, N=1024):\n",
    "    i = np.linspace(0, 1, len(x))\n",
    "    j = np.linspace(0, 1, N)\n",
    "    \n",
    "    return np.interp(j, i, x)\n",
    "\n",
    "def measure(A):\n",
    "    control.aod_h(frequency=100e6)\n",
    "    control.aod_v(frequency=[80e6, 120e6], amplitude=interpolate(A), duration=T, nodwells=[False, True], interval=dT)\n",
    "    \n",
    "    df = scope.capture()\n",
    "    df = df[(df.time > 0) & (df.time < T)]\n",
    "\n",
    "    return interpolate(df.time), interpolate(df.voltage)"
   ]
  },
  {
   "cell_type": "code",
   "execution_count": 9,
   "metadata": {},
   "outputs": [],
   "source": [
    "import os\n",
    "import warnings\n",
    "\n",
    "warnings.filterwarnings(\"ignore\")\n",
    "\n",
    "os.makedirs('optimization-data', exist_ok=True)"
   ]
  },
  {
   "cell_type": "code",
   "execution_count": 37,
   "metadata": {},
   "outputs": [
    {
     "data": {
      "text/plain": [
       "array([0.29670128, 0.28758085, 0.26385799, 0.20216417, 0.25970242,\n",
       "       0.30048077, 0.27085032, 0.50324864])"
      ]
     },
     "execution_count": 37,
     "metadata": {},
     "output_type": "execute_result"
    }
   ],
   "source": [
    "from scipy import optimize\n",
    "\n",
    "A8 = np.ones(8)\n",
    "\n",
    "U_target = .8\n",
    "\n",
    "for i in range(len(A8)):\n",
    "    U_error = 1e10\n",
    "    \n",
    "    for j in range(500):\n",
    "        a = np.random.uniform(.2, 1.0)\n",
    "    \n",
    "        A_exp = A8.copy()\n",
    "        A_exp[i] = a\n",
    "        \n",
    "        t, U = measure(A_exp)\n",
    "        \n",
    "        err = (interpolate(U, len(A_exp))[i] - U_target)**2\n",
    "        \n",
    "        if err < U_error:\n",
    "            U_error = err\n",
    "            A8[i] = a\n",
    "            \n",
    "            df = pd.DataFrame({'time': t, 'voltage': U, 'amplitude': interpolate(A8)})\n",
    "            df.to_hdf('optimization-data/800mV-8.h5', f'amplitude{i}/iteration{j}', complevel=9)\n",
    "    \n",
    "A8"
   ]
  },
  {
   "cell_type": "code",
   "execution_count": 38,
   "metadata": {},
   "outputs": [
    {
     "data": {
      "text/plain": [
       "array([0.35088383, 0.3180698 , 0.3017809 , 0.21651422, 0.30682918,\n",
       "       0.36652585, 0.26674604, 0.78912501])"
      ]
     },
     "execution_count": 38,
     "metadata": {},
     "output_type": "execute_result"
    }
   ],
   "source": [
    "from scipy import optimize\n",
    "\n",
    "A8 = np.ones(8)\n",
    "\n",
    "U_target = 1.0\n",
    "\n",
    "for i in range(len(A8)):\n",
    "    U_error = 1e10\n",
    "    \n",
    "    for j in range(500):\n",
    "        a = np.random.uniform(.2, 1.0)\n",
    "    \n",
    "        A_exp = A8.copy()\n",
    "        A_exp[i] = a\n",
    "        \n",
    "        t, U = measure(A_exp)\n",
    "        \n",
    "        err = (interpolate(U, len(A_exp))[i] - U_target)**2\n",
    "        \n",
    "        if err < U_error:\n",
    "            U_error = err\n",
    "            A8[i] = a\n",
    "            \n",
    "            df = pd.DataFrame({'time': t, 'voltage': U, 'amplitude': interpolate(A8)})\n",
    "            df.to_hdf('optimization-data/1000mV-8.h5', f'amplitude{i}/iteration@{j}', complevel=9)\n",
    "    \n",
    "A8"
   ]
  },
  {
   "cell_type": "code",
   "execution_count": 39,
   "metadata": {},
   "outputs": [
    {
     "data": {
      "text/plain": [
       "array([0.38732311, 0.35990127, 0.35070962, 0.22741702, 0.3409153 ,\n",
       "       0.37122447, 0.36244967, 0.60676056])"
      ]
     },
     "execution_count": 39,
     "metadata": {},
     "output_type": "execute_result"
    }
   ],
   "source": [
    "from scipy import optimize\n",
    "\n",
    "A8 = np.ones(8)\n",
    "\n",
    "U_target = 1.2\n",
    "\n",
    "for i in range(len(A8)):\n",
    "    U_error = 1e10\n",
    "    \n",
    "    for j in range(500):\n",
    "        a = np.random.uniform(.2, 1.0)\n",
    "    \n",
    "        A_exp = A8.copy()\n",
    "        A_exp[i] = a\n",
    "        \n",
    "        t, U = measure(A_exp)\n",
    "        \n",
    "        err = (interpolate(U, len(A_exp))[i] - U_target)**2\n",
    "        \n",
    "        if err < U_error:\n",
    "            U_error = err\n",
    "            A8[i] = a\n",
    "            \n",
    "            df = pd.DataFrame({'time': t, 'voltage': U, 'amplitude': interpolate(A8)})\n",
    "            df.to_hdf('optimization-data/1200mV-8.h5', f'amplitude{i}/iteration{j}', complevel=9)\n",
    "    \n",
    "A8"
   ]
  },
  {
   "cell_type": "code",
   "execution_count": 40,
   "metadata": {},
   "outputs": [
    {
     "data": {
      "text/plain": [
       "array([0.29821332, 0.28118328, 0.27810513, 0.30415035, 0.25995746,\n",
       "       0.22496198, 0.2019899 , 0.37195609, 0.69640339, 0.29991318,\n",
       "       0.51602801, 0.35580268, 0.5872501 , 0.70926122, 0.28538927,\n",
       "       0.50281673])"
      ]
     },
     "execution_count": 40,
     "metadata": {},
     "output_type": "execute_result"
    }
   ],
   "source": [
    "A16 = np.ones(16)\n",
    "\n",
    "U_target = .8\n",
    "\n",
    "for i in range(len(A16)):\n",
    "    U_error = 1e10\n",
    "    \n",
    "    for j in range(500):\n",
    "        a = np.random.uniform(.2, 1.0)\n",
    "    \n",
    "        A_exp = A16.copy()\n",
    "        A_exp[i] = a\n",
    "        \n",
    "        t, U = measure(A_exp)\n",
    "        \n",
    "        err = (interpolate(U, len(A_exp))[i] - U_target)**2\n",
    "        \n",
    "        if err < U_error:\n",
    "            U_error = err\n",
    "            A16[i] = a\n",
    "            \n",
    "            df = pd.DataFrame({'time': t, 'voltage': U, 'amplitude': interpolate(A16)})\n",
    "            df.to_hdf('optimization-data/800mV-16.h5', f'amplitude{i}/iteration{j}', complevel=9)\n",
    "    \n",
    "A16"
   ]
  },
  {
   "cell_type": "code",
   "execution_count": 41,
   "metadata": {},
   "outputs": [
    {
     "data": {
      "text/plain": [
       "array([0.3734661 , 0.31887009, 0.34634856, 0.34298713, 0.28251322,\n",
       "       0.32471719, 0.21187564, 0.51006631, 0.37410409, 0.3697791 ,\n",
       "       0.93900773, 0.20481952, 0.60319988, 0.31191768, 0.77386952,\n",
       "       0.96476493])"
      ]
     },
     "execution_count": 41,
     "metadata": {},
     "output_type": "execute_result"
    }
   ],
   "source": [
    "A16 = np.ones(16)\n",
    "\n",
    "U_target = 1.0\n",
    "\n",
    "for i in range(len(A16)):\n",
    "    U_error = 1e10\n",
    "    \n",
    "    for j in range(500):\n",
    "        a = np.random.uniform(.2, 1.0)\n",
    "    \n",
    "        A_exp = A16.copy()\n",
    "        A_exp[i] = a\n",
    "        \n",
    "        t, U = measure(A_exp)\n",
    "        \n",
    "        err = (interpolate(U, len(A_exp))[i] - U_target)**2\n",
    "        \n",
    "        if err < U_error:\n",
    "            U_error = err\n",
    "            A16[i] = a\n",
    "            \n",
    "            df = pd.DataFrame({'time': t, 'voltage': U, 'amplitude': interpolate(A16)})\n",
    "            df.to_hdf('optimization-data/1000mV-16.h5', f'amplitude{i}/iteration{j}', complevel=9)\n",
    "    \n",
    "A16"
   ]
  },
  {
   "cell_type": "code",
   "execution_count": 42,
   "metadata": {},
   "outputs": [
    {
     "data": {
      "text/plain": [
       "array([0.4043573 , 0.38314906, 0.40070326, 0.35468426, 0.38904826,\n",
       "       0.24630039, 0.5074548 , 0.46050686, 0.25794093, 0.9150914 ,\n",
       "       0.48951574, 0.91543775, 0.6164894 , 0.51890191, 0.62098324,\n",
       "       0.25227604])"
      ]
     },
     "execution_count": 42,
     "metadata": {},
     "output_type": "execute_result"
    }
   ],
   "source": [
    "A16 = np.ones(16)\n",
    "\n",
    "U_target = 1.2\n",
    "\n",
    "for i in range(len(A16)):\n",
    "    U_error = 1e10\n",
    "    \n",
    "    for j in range(500):\n",
    "        a = np.random.uniform(.2, 1.0)\n",
    "    \n",
    "        A_exp = A16.copy()\n",
    "        A_exp[i] = a\n",
    "        \n",
    "        t, U = measure(A_exp)\n",
    "        \n",
    "        err = (interpolate(U, len(A_exp))[i] - U_target)**2\n",
    "        \n",
    "        if err < U_error:\n",
    "            U_error = err\n",
    "            A16[i] = a\n",
    "            \n",
    "            df = pd.DataFrame({'time': t, 'voltage': U, 'amplitude': interpolate(A16)})\n",
    "            df.to_hdf('optimization-data/1200mV-16.h5', f'amplitude{i}/iteration{j}', complevel=9)\n",
    "    \n",
    "A16"
   ]
  },
  {
   "cell_type": "code",
   "execution_count": 43,
   "metadata": {},
   "outputs": [
    {
     "data": {
      "text/plain": [
       "array([0.31973403, 0.31380073, 0.28942037, 0.31080267, 0.23541747,\n",
       "       0.55469042, 0.8049138 , 0.41154155, 0.87439785, 0.85318316,\n",
       "       0.38465727, 0.78672457, 0.96655727, 0.48781038, 0.2889445 ,\n",
       "       0.85460412, 0.49107898, 0.94561104, 0.52535696, 0.63224473,\n",
       "       0.64750295, 0.30627195, 0.53372698, 0.77224262, 0.3192937 ,\n",
       "       0.60824305, 0.40325167, 0.7438034 , 0.39659478, 0.74302944,\n",
       "       0.5675952 , 0.8219137 ])"
      ]
     },
     "execution_count": 43,
     "metadata": {},
     "output_type": "execute_result"
    }
   ],
   "source": [
    "A32 = np.ones(32)\n",
    "\n",
    "U_target = .8\n",
    "\n",
    "for i in range(len(A32)):\n",
    "    U_error = 1e10\n",
    "    \n",
    "    for j in range(500):\n",
    "        a = np.random.uniform(.2, 1.0)\n",
    "    \n",
    "        A_exp = A32.copy()\n",
    "        A_exp[i] = a\n",
    "        \n",
    "        t, U = measure(A_exp)\n",
    "        \n",
    "        err = (interpolate(U, len(A_exp))[i] - U_target)**2\n",
    "        \n",
    "        if err < U_error:\n",
    "            U_error = err\n",
    "            A32[i] = a\n",
    "            \n",
    "            df = pd.DataFrame({'time': t, 'voltage': U, 'amplitude': interpolate(A32)})\n",
    "            df.to_hdf('optimization-data/800mV-32.h5', f'amplitude{i}/iteration{j}', complevel=9)\n",
    "\n",
    "A32"
   ]
  },
  {
   "cell_type": "code",
   "execution_count": 44,
   "metadata": {},
   "outputs": [
    {
     "data": {
      "text/plain": [
       "array([0.37561057, 0.33846043, 0.40475727, 0.21271836, 0.64888077,\n",
       "       0.76344553, 0.66989913, 0.38845293, 0.92354614, 0.4984014 ,\n",
       "       0.88815152, 0.41540989, 0.5770842 , 0.76627659, 0.34851747,\n",
       "       0.49768199, 0.22676328, 0.52661441, 0.99024358, 0.86659564,\n",
       "       0.20045802, 0.62855104, 0.4983925 , 0.48062906, 0.58769912,\n",
       "       0.59189398, 0.5077311 , 0.20013463, 0.90279761, 0.22483886,\n",
       "       0.51282767, 0.38286983])"
      ]
     },
     "execution_count": 44,
     "metadata": {},
     "output_type": "execute_result"
    }
   ],
   "source": [
    "A32 = np.ones(32)\n",
    "\n",
    "U_target = 1.0\n",
    "\n",
    "for i in range(len(A32)):\n",
    "    U_error = 1e10\n",
    "    \n",
    "    for j in range(500):\n",
    "        a = np.random.uniform(.2, 1.0)\n",
    "    \n",
    "        A_exp = A32.copy()\n",
    "        A_exp[i] = a\n",
    "        \n",
    "        t, U = measure(A_exp)\n",
    "        \n",
    "        err = (interpolate(U, len(A_exp))[i] - U_target)**2\n",
    "        \n",
    "        if err < U_error:\n",
    "            U_error = err\n",
    "            A32[i] = a\n",
    "            \n",
    "            df = pd.DataFrame({'time': t, 'voltage': U, 'amplitude': interpolate(A32)})\n",
    "            df.to_hdf('optimization-data/1000mV-32.h5', f'amplitude{i}/iteration{j}', complevel=9)\n",
    "    \n",
    "A32"
   ]
  },
  {
   "cell_type": "code",
   "execution_count": 45,
   "metadata": {},
   "outputs": [
    {
     "data": {
      "text/plain": [
       "array([0.41461954, 0.38743545, 0.34741169, 0.4279459 , 0.24551701,\n",
       "       0.77370544, 0.91543592, 0.25519002, 0.40399137, 0.50182735,\n",
       "       0.29055073, 0.44756718, 0.51107556, 0.62025876, 0.81063077,\n",
       "       0.42514163, 0.92854062, 0.2639656 , 0.39256183, 0.64163182,\n",
       "       0.31914435, 0.91026124, 0.69576848, 0.5090474 , 0.36707306,\n",
       "       0.84387496, 0.66650967, 0.93370557, 0.29476856, 0.41532753,\n",
       "       0.45875071, 0.31072442])"
      ]
     },
     "execution_count": 45,
     "metadata": {},
     "output_type": "execute_result"
    }
   ],
   "source": [
    "A32 = np.ones(32)\n",
    "\n",
    "U_target = 1.2\n",
    "\n",
    "for i in range(len(A32)):\n",
    "    U_error = 1e10\n",
    "    \n",
    "    for j in range(500):\n",
    "        a = np.random.uniform(.2, 1.0)\n",
    "    \n",
    "        A_exp = A32.copy()\n",
    "        A_exp[i] = a\n",
    "        \n",
    "        t, U = measure(A_exp)\n",
    "        \n",
    "        err = (interpolate(U, len(A_exp))[i] - U_target)**2\n",
    "        \n",
    "        if err < U_error:\n",
    "            U_error = err\n",
    "            A32[i] = a\n",
    "            \n",
    "            df = pd.DataFrame({'time': t, 'voltage': U, 'amplitude': interpolate(A32)})\n",
    "            df.to_hdf('optimization-data/1200mV-32.h5', f'amplitude{i}/iteration{j}', complevel=9)\n",
    "    \n",
    "A32"
   ]
  },
  {
   "cell_type": "code",
   "execution_count": 22,
   "metadata": {},
   "outputs": [
    {
     "data": {
      "text/plain": [
       "<Response [204]>"
      ]
     },
     "execution_count": 22,
     "metadata": {},
     "output_type": "execute_result"
    }
   ],
   "source": []
  },
  {
   "cell_type": "code",
   "execution_count": null,
   "metadata": {},
   "outputs": [],
   "source": []
  }
 ],
 "metadata": {
  "kernelspec": {
   "display_name": "Python 3",
   "language": "python",
   "name": "python3"
  },
  "language_info": {
   "codemirror_mode": {
    "name": "ipython",
    "version": 3
   },
   "file_extension": ".py",
   "mimetype": "text/x-python",
   "name": "python",
   "nbconvert_exporter": "python",
   "pygments_lexer": "ipython3",
   "version": "3.6.5"
  }
 },
 "nbformat": 4,
 "nbformat_minor": 2
}
