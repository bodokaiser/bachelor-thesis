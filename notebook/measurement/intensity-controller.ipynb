{
  "cells": [
    {
      "cell_type": "markdown",
      "source": [
        "# Intensity Controller\n",
        "\nIn this notebook we are going to measure the signal quality of the intensity controller and estimate an error by comparison with voltage differences in intensity measurements."
      ],
      "metadata": {}
    },
    {
      "cell_type": "code",
      "source": [
        "import os\n",
        "import control\n",
        "\n",
        "os.makedirs('../../dataset/intensity', exist_ok=True)\n",
        "\n",
        "def timestamp():\n",
        "    return datetime.now().strftime('%Y-%m-%d_%H%M%S')\n",
        "\n",
        "scope = control.MSOX6004A('172.22.22.30')\n",
        "scope.holla()"
      ],
      "outputs": [],
      "execution_count": 1,
      "metadata": {}
    },
    {
      "cell_type": "markdown",
      "source": [
        "## Long term measurement\n",
        "\nThe AOD elements are removed such that the beam passes through the AOD mount. In the first run we measure about every 130s over night."
      ],
      "metadata": {}
    },
    {
      "cell_type": "code",
      "source": [
        "time = []\n",
        "voltage = []\n",
        "\n",
        "while True:\n",
        "    scope.single()\n",
        "    \n",
        "    sleep(5)\n",
        "    \n",
        "    control.trigger()\n",
        "    \n",
        "    sleep(5)\n",
        "    \n",
        "    t = timestamp()\n",
        "    U = scope.data(1).voltage.mean()\n",
        "    \n",
        "    time.append(t)\n",
        "    voltage.append(U)\n",
        "    \n",
        "    print(f'measured {U}V at {t}')\n",
        "    \n",
        "    sleep(120)\n",
        "    \n",
        "df = pd.DataFrame({ 'time': times, 'voltage': voltages })\n",
        "df.to_hdf('../../dataset/intensity/controller.h5', 'long')"
      ],
      "outputs": [],
      "execution_count": null,
      "metadata": {}
    },
    {
      "cell_type": "markdown",
      "source": [
        "## Short term measurement\n",
        "\nIn the second run we measure every 10s. This is in particular interesting as it tells us how much intensity fluctuates during intensity measurements that take minutes."
      ],
      "metadata": {}
    },
    {
      "cell_type": "code",
      "source": [
        "time = []\n",
        "voltage = []\n",
        "\n",
        "while True:\n",
        "    scope.single()\n",
        "    \n",
        "    sleep(5)\n",
        "    \n",
        "    control.trigger()\n",
        "    \n",
        "    sleep(5)\n",
        "    \n",
        "    t = timestamp()\n",
        "    U = scope.data(1).voltage.mean()\n",
        "    \n",
        "    time.append(t)\n",
        "    voltage.append(U)\n",
        "    \n",
        "    print(f'measured {U}V at {t}')\n",
        "    \n",
        "df = pd.DataFrame({ 'time': times, 'voltage': voltages })\n",
        "df.to_hdf('../../dataset/intensity/control.h5', 'short')"
      ],
      "outputs": [],
      "execution_count": null,
      "metadata": {}
    }
  ],
  "metadata": {
    "kernelspec": {
      "name": "python3",
      "language": "python",
      "display_name": "Python 3"
    },
    "language_info": {
      "name": "python",
      "version": "3.6.5",
      "mimetype": "text/x-python",
      "codemirror_mode": {
        "name": "ipython",
        "version": 3
      },
      "pygments_lexer": "ipython3",
      "nbconvert_exporter": "python",
      "file_extension": ".py"
    },
    "kernel_info": {
      "name": "python3"
    },
    "nteract": {
      "version": "0.11.2"
    }
  },
  "nbformat": 4,
  "nbformat_minor": 2
}