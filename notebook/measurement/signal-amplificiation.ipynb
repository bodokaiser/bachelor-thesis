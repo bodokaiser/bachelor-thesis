{
  "cells": [
    {
      "cell_type": "markdown",
      "source": [
        "# Signal amplification\n",
        "\n",
        "Insert the external trigger signal to the back of the Agilent 33220A function generator and connect its output with the external trigger input of the oscilloscope. Let the oscilloscope trigger on falling edge and set the time scale to 20 us. The function generator should be configured to output pulse signals with period of 30 ms.\n",
        "\n",
        "The output of the horizontal DDS is connected to the horizontal amplifier. The DDS driver is configured with inverse sinc filter turned off in the subsequent experiments.\n",
        "\n",
        "The output of the horizontal amplifier is connected to the following attentuators to not destory the oscillscope:\n",
        "\n",
        "1. 1 dB\n",
        "2. 3 dB\n",
        "3. 3 dB\n",
        "4. 6 dB\n",
        "5. 10 dB\n",
        "6. 10 dB\n",
        "\nWith the damping power increasing towards the oscilloscope such that the heat is distributed more evenly."
      ],
      "metadata": {}
    },
    {
      "cell_type": "code",
      "source": [
        "import os\n",
        "import time\n",
        "import numpy as np\n",
        "import pandas as pd\n",
        "import warnings\n",
        "\n",
        "warnings.filterwarnings(\"ignore\")\n",
        "\n",
        "datadir = '../../dataset/signal/amplification'\n",
        "\nos.makedirs(datadir, exist_ok=True)"
      ],
      "outputs": [],
      "execution_count": 4,
      "metadata": {}
    },
    {
      "cell_type": "code",
      "source": [
        "import control\n",
        "\n",
        "scope = control.MSOX6004A('172.22.22.30')\n",
        "fngen = control.FG33250A2('172.22.22.36')\n",
        "\nscope.holla(), fngen.holla()"
      ],
      "outputs": [
        {
          "output_type": "execute_result",
          "execution_count": 2,
          "data": {
            "text/plain": [
              "('AGILENT TECHNOLOGIES,MSO-X 4054A,MY57310545,07.20.2017102615\\n',\n",
              " 'Agilent Technologies,33220A,MY43003480,1.05-1.05-22-1\\n')"
            ]
          },
          "metadata": {}
        }
      ],
      "execution_count": 2,
      "metadata": {}
    },
    {
      "cell_type": "code",
      "source": [
        "duration = 30e-3\n",
        "\ndelays = np.linspace(0, duration, 300)"
      ],
      "outputs": [],
      "execution_count": 3,
      "metadata": {}
    },
    {
      "cell_type": "markdown",
      "source": [
        "Insert the external trigger signal to the back of the Agilent 33220A function generator and connect its output with the external trigger input of the oscilloscope. Let the oscilloscope trigger on falling edge and set the time scale to 20 us. The function generator should be configured to output pulse signals with period of 30 ms. Now connect the channel 1 input of the oscilloscope with the output of the horizontal DDS. Check that the DDS driver server is configured to have the sinc filter turned off.\n",
        "\n",
        "## Digital Ramp\n",
        "\n",
        "Frequency response with digital ramp.\n",
        "\n### Horizontal DDS"
      ],
      "metadata": {}
    },
    {
      "cell_type": "code",
      "source": [
        "control.aod_h(frequency=[80e6, 120e6], duration=duration)\n",
        "\n",
        "data = []\n",
        "\n",
        "for t in delays:\n",
        "    fngen.width(t)\n",
        "    \n",
        "    data.append((t, scope.capture()))\n",
        "\n",
        "for (t, df) in data:\n",
        "    df.to_hdf(os.path.join(datadir, 'horizontal.h5'), f'{t:.4}', format='table', complevel=9)"
      ],
      "outputs": [],
      "execution_count": 8,
      "metadata": {}
    },
    {
      "cell_type": "markdown",
      "source": [
        "### Vertical DDS\n",
        "\nNow connect the vertical DDS with the oscillscope output. Check again that the DDS driver has the inverse sinc filter turned off."
      ],
      "metadata": {}
    },
    {
      "cell_type": "code",
      "source": [
        "control.aod_v(frequency=[80e6, 120e6], duration=duration)\n",
        "\n",
        "data = []\n",
        "\n",
        "for t in delays:\n",
        "    fngen.width(t)\n",
        "    \n",
        "    data.append((t, scope.capture()))\n",
        "\n",
        "for (t, df) in data:\n",
        "    df.to_hdf(os.path.join(datadir, 'vertical.h5'), f'{t:.4}', format='table', complevel=9)"
      ],
      "outputs": [],
      "execution_count": 7,
      "metadata": {}
    },
    {
      "cell_type": "markdown",
      "source": [
        "## Sampling\n",
        "\n",
        "Frequency sweep through sampling.\n",
        "\n### Vertical DDS"
      ],
      "metadata": {}
    },
    {
      "cell_type": "code",
      "source": [
        "data = []\n",
        "\n",
        "for f in np.linspace(80e6, 120e6, 200):\n",
        "    control.aod_v(frequency=f)\n",
        "    \n",
        "    time.sleep(.5)\n",
        "\n",
        "    U = scope.data(1).voltage.max()\n",
        "    \n",
        "    data.append((f, U))\n",
        "    \n",
        "df = pd.DataFrame(data, columns=['frequency', 'amplitude'])\n",
        "df.to_hdf(os.path.join(datadir, 'sampled.h5'), 'vertical', complevel=9)"
      ],
      "outputs": [],
      "execution_count": 6,
      "metadata": {}
    },
    {
      "cell_type": "markdown",
      "source": [
        "### Horizontal DDS"
      ],
      "metadata": {}
    },
    {
      "cell_type": "code",
      "source": [
        "data = []\n",
        "\n",
        "for f in np.linspace(80e6, 120e6, 200):\n",
        "    control.aod_h(frequency=f)\n",
        "\n",
        "    time.sleep(.5)\n",
        "    \n",
        "    U = scope.data().voltage.max()\n",
        "    \n",
        "    data.append((f, U))\n",
        "    \n",
        "df = pd.DataFrame(data, columns=['frequency', 'amplitude'])\n",
        "df.to_hdf(os.path.join(datadir, 'sampled.h5'), 'horizontal', complevel=9)"
      ],
      "outputs": [],
      "execution_count": 5,
      "metadata": {}
    },
    {
      "cell_type": "code",
      "source": [
        "df"
      ],
      "outputs": [],
      "execution_count": 43,
      "metadata": {}
    },
    {
      "cell_type": "code",
      "source": [],
      "outputs": [],
      "execution_count": null,
      "metadata": {}
    }
  ],
  "metadata": {
    "kernel_info": {
      "name": "python3"
    },
    "kernelspec": {
      "name": "python3",
      "language": "python",
      "display_name": "Python 3"
    },
    "language_info": {
      "name": "python",
      "version": "3.7.0",
      "mimetype": "text/x-python",
      "codemirror_mode": {
        "name": "ipython",
        "version": 3
      },
      "pygments_lexer": "ipython3",
      "nbconvert_exporter": "python",
      "file_extension": ".py"
    },
    "nteract": {
      "version": "0.11.6"
    }
  },
  "nbformat": 4,
  "nbformat_minor": 2
}