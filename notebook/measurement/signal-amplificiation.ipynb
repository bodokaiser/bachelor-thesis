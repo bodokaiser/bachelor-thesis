{
 "cells": [
  {
   "cell_type": "markdown",
   "metadata": {},
   "source": [
    "# Signal amplification\n",
    "\n",
    "Insert the external trigger signal to the back of the Agilent 33220A function generator and connect its output with the external trigger input of the oscilloscope. Let the oscilloscope trigger on falling edge and set the time scale to 20 us. The function generator should be configured to output pulse signals with period of 30 ms.\n",
    "\n",
    "The output of the horizontal DDS is connected to the horizontal amplifier. The DDS driver is configured with inverse sinc filter turned off in the subsequent experiments.\n",
    "\n",
    "The output of the horizontal amplifier is connected to the following attentuators to not destory the oscillscope:\n",
    "\n",
    "1. 1 dB\n",
    "2. 3 dB\n",
    "3. 3 dB\n",
    "4. 6 dB\n",
    "5. 10 dB\n",
    "6. 10 dB\n",
    "\n",
    "With the damping power increasing towards the oscilloscope such that the heat is distributed more evenly."
   ]
  },
  {
   "cell_type": "code",
   "execution_count": 4,
   "metadata": {},
   "outputs": [],
   "source": [
    "import os\n",
    "import time\n",
    "import numpy as np\n",
    "import pandas as pd\n",
    "import warnings\n",
    "\n",
    "warnings.filterwarnings(\"ignore\")\n",
    "\n",
    "datadir = '../../dataset/signal/amplification'\n",
    "\n",
    "os.makedirs(datadir, exist_ok=True)"
   ]
  },
  {
   "cell_type": "code",
   "execution_count": 2,
   "metadata": {},
   "outputs": [
    {
     "data": {
      "text/plain": [
       "('AGILENT TECHNOLOGIES,MSO-X 4054A,MY57310545,07.20.2017102615\\n',\n",
       " 'Agilent Technologies,33220A,MY43003480,1.05-1.05-22-1\\n')"
      ]
     },
     "execution_count": 2,
     "metadata": {},
     "output_type": "execute_result"
    }
   ],
   "source": [
    "import control\n",
    "\n",
    "scope = control.MSOX6004A('172.22.22.30')\n",
    "fngen = control.FG33250A2('172.22.22.36')\n",
    "\n",
    "scope.holla(), fngen.holla()"
   ]
  },
  {
   "cell_type": "code",
   "execution_count": 3,
   "metadata": {},
   "outputs": [],
   "source": [
    "duration = 30e-3\n",
    "\n",
    "delays = np.linspace(0, duration, 300)"
   ]
  },
  {
   "cell_type": "markdown",
   "metadata": {},
   "source": [
    "Insert the external trigger signal to the back of the Agilent 33220A function generator and connect its output with the external trigger input of the oscilloscope. Let the oscilloscope trigger on falling edge and set the time scale to 20 us. The function generator should be configured to output pulse signals with period of 30 ms. Now connect the channel 1 input of the oscilloscope with the output of the horizontal DDS. Check that the DDS driver server is configured to have the sinc filter turned off.\n",
    "\n",
    "## Digital Ramp\n",
    "\n",
    "Frequency response with digital ramp.\n",
    "\n",
    "### Horizontal DDS"
   ]
  },
  {
   "cell_type": "code",
   "execution_count": 8,
   "metadata": {},
   "outputs": [],
   "source": [
    "control.aod_h(frequency=[80e6, 120e6], duration=duration)\n",
    "\n",
    "data = []\n",
    "\n",
    "for t in delays:\n",
    "    fngen.width(t)\n",
    "    \n",
    "    data.append((t, scope.capture()))\n",
    "\n",
    "for (t, df) in data:\n",
    "    df.to_hdf(os.path.join(datadir, 'horizontal.h5'), f'{t:.4}', format='table', complevel=9)"
   ]
  },
  {
   "cell_type": "markdown",
   "metadata": {},
   "source": [
    "### Vertical DDS\n",
    "\n",
    "Now connect the vertical DDS with the oscillscope output. Check again that the DDS driver has the inverse sinc filter turned off."
   ]
  },
  {
   "cell_type": "code",
   "execution_count": 7,
   "metadata": {},
   "outputs": [],
   "source": [
    "control.aod_v(frequency=[80e6, 120e6], duration=duration)\n",
    "\n",
    "data = []\n",
    "\n",
    "for t in delays:\n",
    "    fngen.width(t)\n",
    "    \n",
    "    data.append((t, scope.capture()))\n",
    "\n",
    "for (t, df) in data:\n",
    "    df.to_hdf(os.path.join(datadir, 'vertical.h5'), f'{t:.4}', format='table', complevel=9)"
   ]
  },
  {
   "cell_type": "markdown",
   "metadata": {},
   "source": [
    "## Sampling\n",
    "\n",
    "Frequency sweep through sampling.\n",
    "\n",
    "### Vertical DDS"
   ]
  },
  {
   "cell_type": "code",
   "execution_count": 6,
   "metadata": {},
   "outputs": [],
   "source": [
    "data = []\n",
    "\n",
    "for f in np.linspace(80e6, 120e6, 200):\n",
    "    control.aod_v(frequency=f)\n",
    "    \n",
    "    time.sleep(.5)\n",
    "\n",
    "    U = scope.data(1).voltage.max()\n",
    "    \n",
    "    data.append((f, U))\n",
    "    \n",
    "df = pd.DataFrame(data, columns=['frequency', 'amplitude'])\n",
    "df.to_hdf(os.path.join(datadir, 'sampled.h5'), 'vertical', complevel=9)"
   ]
  },
  {
   "cell_type": "markdown",
   "metadata": {},
   "source": [
    "### Horizontal DDS"
   ]
  },
  {
   "cell_type": "code",
   "execution_count": 5,
   "metadata": {},
   "outputs": [],
   "source": [
    "data = []\n",
    "\n",
    "for f in np.linspace(80e6, 120e6, 200):\n",
    "    control.aod_h(frequency=f)\n",
    "\n",
    "    time.sleep(.5)\n",
    "    \n",
    "    U = scope.data().voltage.max()\n",
    "    \n",
    "    data.append((f, U))\n",
    "    \n",
    "df = pd.DataFrame(data, columns=['frequency', 'amplitude'])\n",
    "df.to_hdf(os.path.join(datadir, 'sampled.h5'), 'horizontal', complevel=9)"
   ]
  },
  {
   "cell_type": "code",
   "execution_count": 43,
   "metadata": {},
   "outputs": [],
   "source": [
    "df"
   ]
  },
  {
   "cell_type": "code",
   "execution_count": null,
   "metadata": {},
   "outputs": [],
   "source": []
  }
 ],
 "metadata": {
  "kernel_info": {
   "name": "python3"
  },
  "kernelspec": {
   "display_name": "Python 3",
   "language": "python",
   "name": "python3"
  },
  "language_info": {
   "codemirror_mode": {
    "name": "ipython",
    "version": 3
   },
   "file_extension": ".py",
   "mimetype": "text/x-python",
   "name": "python",
   "nbconvert_exporter": "python",
   "pygments_lexer": "ipython3",
   "version": "3.6.5"
  },
  "nteract": {
   "version": "0.11.4"
  }
 },
 "nbformat": 4,
 "nbformat_minor": 2
}
