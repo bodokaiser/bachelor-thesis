{
  "cells": [
    {
      "cell_type": "markdown",
      "source": [
        "# Amplifier"
      ],
      "metadata": {}
    },
    {
      "cell_type": "code",
      "source": [
        "duration = 26.84e-3\n",
        "delays = np.linspace(0, duration, 300)\n",
        "\n",
        "datadir = '../../dataset/signal/amplification'\n",
        "\nos.makedirs(datadir, exist_ok=True)"
      ],
      "outputs": [],
      "execution_count": 1,
      "metadata": {}
    },
    {
      "cell_type": "code",
      "source": [
        "import control\n",
        "\n",
        "scope = control.MSOX6004A('172.22.22.30')\n",
        "fngen = control.FG33250A2('172.22.22.36')\n",
        "\nscope.holla(), fngen.holla()"
      ],
      "outputs": [],
      "execution_count": null,
      "metadata": {}
    },
    {
      "cell_type": "markdown",
      "source": [
        "Insert the external trigger signal to the back of the Agilent 33220A function generator and connect its output with the external trigger input of the oscilloscope. Let the oscilloscope trigger on falling edge and set the time scale to 20 us. The function generator should be configured to output pulse signals with period of 30 ms.\n",
        "\n",
        "The output of the horizontal DDS is connected to the horizontal amplifier. The DDS driver is configured with inverse sinc filter turned off in the subsequent experiments.\n",
        "\n",
        "The output of the horizontal amplifier is connected to the following attentuators to not destory the oscillscope:\n",
        "\n",
        "1. 1 dB\n",
        "2. 3 dB\n",
        "3. 6 dB\n",
        "4. 10 dB\n",
        "5. 10 dB\n",
        "\nWith the damping power increasing towards the oscilloscope such that the heat is distributed more evenly."
      ],
      "metadata": {}
    },
    {
      "cell_type": "code",
      "source": [
        "control.aod_h(frequency=[80e6, 120e6], amplitude=np.ones(1024), duration=duration)\n",
        "\n",
        "data = []\n",
        "\n",
        "for t in delays:\n",
        "    fngen.width(t)\n",
        "    \n",
        "    data.append((t, scope.capture()))\n",
        "\n",
        "for (t, df) in data:\n",
        "    df.to_hdf(os.path.join(datadir, 'horizontal.h5'), str(t), format='table', complevel=9)"
      ],
      "outputs": [],
      "execution_count": 2,
      "metadata": {}
    },
    {
      "cell_type": "markdown",
      "source": [
        "Now connect the output of the horizontal DDS to the input of the vertical amplifier. Then connect the output of the vertical amplifier through the same attentuator configurator as before with the oscilloscope."
      ],
      "metadata": {}
    },
    {
      "cell_type": "code",
      "source": [
        "control.aod_h(frequency=[80e6, 120e6], amplitude=np.ones(1024), duration=duration)\n",
        "\n",
        "data = []\n",
        "\n",
        "for t in delays:\n",
        "    fngen.width(t)\n",
        "    \n",
        "    data.append((t, scope.capture()))\n",
        "\n",
        "for (t, df) in data:\n",
        "    df.to_hdf(os.path.join(datadir, 'vertical.h5'), str(t), format='table', complevel=9)"
      ],
      "outputs": [],
      "execution_count": 3,
      "metadata": {}
    },
    {
      "cell_type": "markdown",
      "source": [
        "Now connect the vertical DDS with the oscillscope output. Check again that the DDS driver has the inverse sinc filter turned off."
      ],
      "metadata": {}
    },
    {
      "cell_type": "code",
      "source": [],
      "outputs": [],
      "execution_count": null,
      "metadata": {}
    }
  ],
  "metadata": {
    "kernelspec": {
      "name": "python3",
      "language": "python",
      "display_name": "Python 3"
    },
    "language_info": {
      "name": "python",
      "version": "3.6.5",
      "mimetype": "text/x-python",
      "codemirror_mode": {
        "name": "ipython",
        "version": 3
      },
      "pygments_lexer": "ipython3",
      "nbconvert_exporter": "python",
      "file_extension": ".py"
    },
    "kernel_info": {
      "name": "python3"
    },
    "nteract": {
      "version": "0.11.2"
    }
  },
  "nbformat": 4,
  "nbformat_minor": 2
}