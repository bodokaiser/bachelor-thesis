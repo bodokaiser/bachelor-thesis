{
 "cells": [
  {
   "cell_type": "markdown",
   "metadata": {},
   "source": [
    "# Amplifier"
   ]
  },
  {
   "cell_type": "code",
   "execution_count": 1,
   "metadata": {},
   "outputs": [
    {
     "data": {
      "text/plain": [
       "('AGILENT TECHNOLOGIES,MSO-X 4054A,MY57310545,07.20.2017102615\\n',\n",
       " 'Agilent Technologies,33220A,MY43003480,1.05-1.05-22-1\\n')"
      ]
     },
     "execution_count": 1,
     "metadata": {},
     "output_type": "execute_result"
    }
   ],
   "source": [
    "import os\n",
    "import control\n",
    "import numpy as np\n",
    "import pandas as pd\n",
    "\n",
    "from matplotlib import pyplot as plt\n",
    "\n",
    "duration = 26.84e-3\n",
    "delays = np.linspace(0, duration, 300)\n",
    "\n",
    "os.makedirs('../dataset/amplifier', exist_ok=True)\n",
    "\n",
    "scope = control.MSOX6004A('172.22.22.30')\n",
    "fngen = control.FG33250A2('172.22.22.36')\n",
    "\n",
    "scope.holla(), fngen.holla()"
   ]
  },
  {
   "cell_type": "markdown",
   "metadata": {},
   "source": [
    "## Measurement\n",
    "\n",
    "Insert the external trigger signal to the back of the Agilent 33220A function generator and connect its output with the external trigger input of the oscilloscope. Let the oscilloscope trigger on falling edge and set the time scale to 20 us. The function generator should be configured to output pulse signals with period of 30 ms.\n",
    "\n",
    "The output of the horizontal DDS is connected to the horizontal amplifier. The DDS driver is configured with inverse sinc filter turned off in the subsequent experiments.\n",
    "\n",
    "The output of the horizontal amplifier is connected to the following attentuators to not destory the oscillscope:\n",
    "\n",
    "1. 1 dB\n",
    "2. 3 dB\n",
    "3. 6 dB\n",
    "4. 10 dB\n",
    "5. 10 dB\n",
    "\n",
    "With the damping power increasing towards the oscilloscope such that the heat is distributed more evenly."
   ]
  },
  {
   "cell_type": "code",
   "execution_count": 2,
   "metadata": {},
   "outputs": [],
   "source": [
    "control.aod_h(frequency=[80e6, 120e6], amplitude=np.ones(1024), duration=duration)\n",
    "\n",
    "data = []\n",
    "\n",
    "for t in delays:\n",
    "    fngen.width(t)\n",
    "    \n",
    "    data.append((t, scope.capture()))\n",
    "\n",
    "for (t, df) in data:\n",
    "    df.to_hdf('../dataset/amplifier/horizontal.h5', str(t), format='table', complevel=9)"
   ]
  },
  {
   "cell_type": "markdown",
   "metadata": {},
   "source": [
    "Now connect the output of the horizontal DDS to the input of the vertical amplifier. Then connect the output of the vertical amplifier through the same attentuator configurator as before with the oscilloscope."
   ]
  },
  {
   "cell_type": "code",
   "execution_count": 3,
   "metadata": {},
   "outputs": [],
   "source": [
    "control.aod_h(frequency=[80e6, 120e6], amplitude=np.ones(1024), duration=duration)\n",
    "\n",
    "data = []\n",
    "\n",
    "for t in delays:\n",
    "    fngen.width(t)\n",
    "    \n",
    "    data.append((t, scope.capture()))\n",
    "\n",
    "for (t, df) in data:\n",
    "    df.to_hdf('../dataset/amplifier/vertical.h5', str(t), format='table', complevel=9)"
   ]
  },
  {
   "cell_type": "markdown",
   "metadata": {},
   "source": [
    "Now connect the vertical DDS with the oscillscope output. Check again that the DDS driver has the inverse sinc filter turned off."
   ]
  },
  {
   "cell_type": "markdown",
   "metadata": {},
   "source": [
    "## Evaluation\n",
    "\n",
    "We are interested in the signal amplitude in dependence of the frequency. Thus we will do a FFT on each segment to identify the dominant frequency and take the maximum voltage as amplitude. Then we compare the different configuration."
   ]
  },
  {
   "cell_type": "code",
   "execution_count": 4,
   "metadata": {},
   "outputs": [],
   "source": [
    "def fft(df):\n",
    "    T = df.time.values[1] - df.time.values[0]\n",
    "    N = df.voltage.size\n",
    "    \n",
    "    A = np.abs(np.fft.fft(df.voltage)) / N\n",
    "    f = np.linspace(0, 1/T, N)\n",
    "\n",
    "    return f[:N // 2], A[:N // 2]"
   ]
  },
  {
   "cell_type": "code",
   "execution_count": null,
   "metadata": {},
   "outputs": [],
   "source": []
  }
 ],
 "metadata": {
  "kernelspec": {
   "display_name": "Python 3",
   "language": "python",
   "name": "python3"
  },
  "language_info": {
   "codemirror_mode": {
    "name": "ipython",
    "version": 3
   },
   "file_extension": ".py",
   "mimetype": "text/x-python",
   "name": "python",
   "nbconvert_exporter": "python",
   "pygments_lexer": "ipython3",
   "version": "3.6.5"
  }
 },
 "nbformat": 4,
 "nbformat_minor": 2
}
