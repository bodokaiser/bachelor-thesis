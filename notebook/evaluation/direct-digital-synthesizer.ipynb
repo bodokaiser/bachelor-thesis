{
  "cells": [
    {
      "cell_type": "code",
      "source": [
        "from matplotlib import pyplot as plt\n",
        "\n",
        "figdir = '../../figure/digital-signal-synthesis'\n",
        "\nos.makedirs(figdir, exist_ok=True)"
      ],
      "outputs": [],
      "execution_count": 1,
      "metadata": {
        "collapsed": false,
        "outputHidden": false,
        "inputHidden": false
      }
    },
    {
      "cell_type": "code",
      "source": [
        "# accumulator bits\n",
        "N = 8\n",
        "\n",
        "# clock iterations\n",
        "M = 50\n",
        "\n",
        "# reference frequency\n",
        "f_ref = 1e9\n",
        "\n",
        "# output frequency\n",
        "f_out = 1e8\n",
        "\n",
        "# accumulator step\n",
        "dphi = np.ceil(2**N * f_out / f_ref + .5)\n",
        "\n",
        "# accumulator values over one period\n",
        "phi = np.cumsum(dphi * np.ones(M)).astype(np.uint8)\n",
        "\n",
        "# accumulator iterations\n",
        "n = 2**N * np.linspace(0, 1, M)\n",
        "\n",
        "# output signal\n",
        "s = np.cos(2*np.pi*phi / 2**N)"
      ],
      "outputs": [],
      "execution_count": 2,
      "metadata": {
        "collapsed": false,
        "outputHidden": false,
        "inputHidden": false
      }
    },
    {
      "cell_type": "code",
      "source": [
        "phi.shape, n.shape"
      ],
      "outputs": [
        {
          "output_type": "execute_result",
          "execution_count": 22,
          "data": {
            "text/plain": [
              "((50,), (50,))"
            ]
          },
          "metadata": {}
        }
      ],
      "execution_count": 22,
      "metadata": {
        "collapsed": false,
        "outputHidden": false,
        "inputHidden": false
      }
    },
    {
      "cell_type": "code",
      "source": [
        "fig, axes = plt.subplots(nrows=4, sharex=True, figsize=(14, 10))\n",
        "\n",
        "axes[0].scatter(n, phi)\n",
        "axes[0].set_ylabel('Accumulated Phase')\n",
        "\n",
        "axes[1].scatter(n, s)\n",
        "axes[1].set_ylabel('Amplitude Lookup Table')\n",
        "\n",
        "axes[2].step(n, s)\n",
        "axes[2].set_ylabel('Digital Analog Converter')\n",
        "\n",
        "axes[3].plot(n, s)\n",
        "axes[3].set_ylabel('Filter')\n",
        "\n",
        "plt.tight_layout()\n",
        "plt.savefig(os.path.join(figdir, 'simple-output.pdf'))\n",
        "plt.show()"
      ],
      "outputs": [],
      "execution_count": 10,
      "metadata": {
        "collapsed": false,
        "outputHidden": false,
        "inputHidden": false
      }
    },
    {
      "cell_type": "code",
      "source": [],
      "outputs": [],
      "execution_count": null,
      "metadata": {
        "collapsed": false,
        "outputHidden": false,
        "inputHidden": false
      }
    }
  ],
  "metadata": {
    "kernel_info": {
      "name": "python3"
    },
    "language_info": {
      "name": "python",
      "version": "3.7.0",
      "mimetype": "text/x-python",
      "codemirror_mode": {
        "name": "ipython",
        "version": 3
      },
      "pygments_lexer": "ipython3",
      "nbconvert_exporter": "python",
      "file_extension": ".py"
    },
    "kernelspec": {
      "name": "python3",
      "language": "python",
      "display_name": "Python 3"
    },
    "nteract": {
      "version": "0.11.6"
    }
  },
  "nbformat": 4,
  "nbformat_minor": 4
}