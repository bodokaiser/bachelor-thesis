{
 "cells": [
  {
   "cell_type": "markdown",
   "metadata": {},
   "source": [
    "# Signal\n",
    "\n",
    "In this notebook we measure the signal quality of the signal source and signal source with amplifier."
   ]
  },
  {
   "cell_type": "code",
   "execution_count": 13,
   "metadata": {},
   "outputs": [],
   "source": [
    "import os\n",
    "import control\n",
    "import numpy as np\n",
    "import pandas as pd\n",
    "\n",
    "from time import sleep\n",
    "from matplotlib import pyplot as plt\n",
    "\n",
    "os.makedirs('../dataset/signal', exist_ok=True)\n",
    "\n",
    "scope = control.MSOX6004A('172.22.22.30')\n",
    "scope.holla()"
   ]
  },
  {
   "cell_type": "markdown",
   "metadata": {},
   "source": [
    "The oscilloscope is not able to resolve the sine shape at sweep duration in the millisecond range which makes any frequency analysis very hard, thus we reduce the sweep duration to microseconds. The resolution is then high enough to clearly distinguish the period but still not too far to our target duration of 26.84ms."
   ]
  },
  {
   "cell_type": "code",
   "execution_count": 33,
   "metadata": {},
   "outputs": [],
   "source": [
    "control.aod_h(frequency=[90e6, 110e6], duration=10e-6, amplitude=np.ones(1024), nodwells=[False, False])\n",
    "\n",
    "scope.single()\n",
    "\n",
    "sleep(.5)\n",
    "\n",
    "control.trigger()\n",
    "\n",
    "t, U = scope.capture(1)\n",
    "\n",
    "source_h = pd.DataFrame({ 'time': t, 'voltage': U })\n",
    "source_h.to_hdf('../dataset/signal/source.h5', 'horizontal', complevel=9)"
   ]
  },
  {
   "cell_type": "markdown",
   "metadata": {},
   "source": [
    "We save the data to a compressed HDF5 file for faster io and reduced disk footprint compared to CSV."
   ]
  },
  {
   "cell_type": "markdown",
   "metadata": {},
   "source": [
    "Now we need to change the signal source to measure the other DDS output."
   ]
  },
  {
   "cell_type": "code",
   "execution_count": 34,
   "metadata": {},
   "outputs": [],
   "source": [
    "control.aod_v(frequency=[90e6, 110e6], duration=10e-6, amplitude=np.ones(1024), nodwells=[False, False])\n",
    "\n",
    "scope.single()\n",
    "\n",
    "sleep(.5)\n",
    "\n",
    "control.trigger()\n",
    "\n",
    "t, U = scope.capture(1)\n",
    "\n",
    "source_v = pd.DataFrame({ 'time': t, 'voltage': U })\n",
    "source_v.to_hdf('../dataset/signal/source.h5', 'vertical', complevel=9)"
   ]
  },
  {
   "cell_type": "markdown",
   "metadata": {},
   "source": [
    "Next we feed the DDS signal into the amplifier and connect the amplifier output **with attentuator** to the oscilloscope. The attentuators are necessary to shield the oscilloscope from too much power. We used a sequence of attentuators with total damping of 30dBm. For longer measurements it is recommend to have the attentuators increase with damping power to avoid heating of the first attentuator."
   ]
  },
  {
   "cell_type": "code",
   "execution_count": 44,
   "metadata": {},
   "outputs": [],
   "source": [
    "control.aod_h(frequency=[90e6, 110e6], duration=10e-6, amplitude=np.ones(1024), nodwells=[False, False])\n",
    "\n",
    "scope.single()\n",
    "\n",
    "sleep(.5)\n",
    "\n",
    "control.trigger()\n",
    "\n",
    "t, U = scope.capture(1)\n",
    "\n",
    "amplifier_h = pd.DataFrame({ 'time': t, 'voltage': U })\n",
    "amplifier_h.to_hdf('../dataset/signal/amplifier.h5', 'horizontal', complevel=9)"
   ]
  },
  {
   "cell_type": "markdown",
   "metadata": {},
   "source": [
    "Again change the cables and connect the second DDS with second amplifier to the oscilloscope. Do not forget to power down the amplifier when not in use!"
   ]
  },
  {
   "cell_type": "code",
   "execution_count": 45,
   "metadata": {},
   "outputs": [],
   "source": [
    "control.aod_v(frequency=[90e6, 110e6], duration=10e-6, amplitude=np.ones(1024), nodwells=[False, False])\n",
    "\n",
    "scope.single()\n",
    "\n",
    "sleep(.5)\n",
    "\n",
    "control.trigger()\n",
    "\n",
    "t, U = scope.capture(1)\n",
    "\n",
    "amplifier_h = pd.DataFrame({ 'time': t, 'voltage': U })\n",
    "amplifier_h.to_hdf('../dataset/signal/amplifier.h5', 'vertical', complevel=9)"
   ]
  }
 ],
 "metadata": {
  "kernelspec": {
   "display_name": "Python 3",
   "language": "python",
   "name": "python3"
  },
  "language_info": {
   "codemirror_mode": {
    "name": "ipython",
    "version": 3
   },
   "file_extension": ".py",
   "mimetype": "text/x-python",
   "name": "python",
   "nbconvert_exporter": "python",
   "pygments_lexer": "ipython3",
   "version": "3.6.5"
  }
 },
 "nbformat": 4,
 "nbformat_minor": 2
}
