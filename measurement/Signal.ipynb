{
 "cells": [
  {
   "cell_type": "markdown",
   "metadata": {},
   "source": [
    "# Signal\n",
    "\n",
    "In this notebook we measure the signal quality of the signal source and signal source with amplifier."
   ]
  },
  {
   "cell_type": "code",
   "execution_count": 1,
   "metadata": {},
   "outputs": [
    {
     "data": {
      "text/plain": [
       "'AGILENT TECHNOLOGIES,MSO-X 4054A,MY57310545,07.20.2017102615\\n'"
      ]
     },
     "execution_count": 1,
     "metadata": {},
     "output_type": "execute_result"
    }
   ],
   "source": [
    "import os\n",
    "import control\n",
    "import numpy as np\n",
    "import pandas as pd\n",
    "\n",
    "from matplotlib import pyplot as plt\n",
    "\n",
    "os.makedirs('../dataset/signal', exist_ok=True)\n",
    "\n",
    "scope = control.MSOX6004A('172.22.22.30')\n",
    "scope.holla()"
   ]
  },
  {
   "cell_type": "markdown",
   "metadata": {},
   "source": [
    "The oscilloscope is not able to resolve the sine shape at sweep duration in the millisecond range which makes any frequency analysis very hard, thus we reduce the sweep duration to microseconds. The resolution is then high enough to clearly distinguish the period but still not too far to our target duration of 26.84ms."
   ]
  },
  {
   "cell_type": "markdown",
   "metadata": {},
   "source": [
    "## Source"
   ]
  },
  {
   "cell_type": "code",
   "execution_count": 14,
   "metadata": {},
   "outputs": [],
   "source": [
    "control.aod_h(frequency=[90e6, 110e6], duration=10e-6, amplitude=np.ones(1024), nodwells=[False, True])\n",
    "\n",
    "df = scope.capture()\n",
    "df.to_hdf('../dataset/signal/source.h5', 'horizontal', complevel=9)"
   ]
  },
  {
   "cell_type": "markdown",
   "metadata": {},
   "source": [
    "We save the data to a compressed HDF5 file for faster io and reduced disk footprint compared to CSV."
   ]
  },
  {
   "cell_type": "markdown",
   "metadata": {},
   "source": [
    "Now we need to change the signal source to measure the other DDS output."
   ]
  },
  {
   "cell_type": "code",
   "execution_count": 15,
   "metadata": {},
   "outputs": [],
   "source": [
    "control.aod_v(frequency=[90e6, 110e6], duration=10e-6, amplitude=np.ones(1024), nodwells=[False, True])\n",
    "\n",
    "df = scope.capture()\n",
    "df.to_hdf('../dataset/signal/source.h5', 'vertical', complevel=9)"
   ]
  },
  {
   "cell_type": "markdown",
   "metadata": {},
   "source": [
    "## Amplifier\n",
    "\n",
    "Next we feed the DDS signal into the amplifier and connect the amplifier output **with attentuator** to the oscilloscope. The attentuators are necessary to shield the oscilloscope from too much power. We used a sequence of attentuators with total damping of 30dBm. For longer measurements it is recommend to have the attentuators increase with damping power to avoid heating of the first attentuator. "
   ]
  },
  {
   "cell_type": "code",
   "execution_count": 22,
   "metadata": {},
   "outputs": [],
   "source": [
    "control.aod_h(frequency=[90e6, 110e6], duration=10e-6, amplitude=np.ones(1024), nodwells=[False, True])\n",
    "\n",
    "df = scope.capture()\n",
    "df.to_hdf('../dataset/signal/amplifier.h5', 'horizontal', complevel=9)"
   ]
  },
  {
   "cell_type": "markdown",
   "metadata": {},
   "source": [
    "Again change the cables and connect the second DDS with second amplifier to the oscilloscope. Do not forget to power down the amplifier when not in use!"
   ]
  },
  {
   "cell_type": "code",
   "execution_count": 24,
   "metadata": {},
   "outputs": [],
   "source": [
    "control.aod_v(frequency=[90e6, 110e6], duration=10e-6, amplitude=np.ones(1024), nodwells=[False, True])\n",
    "\n",
    "df = scope.capture()\n",
    "df.to_hdf('../dataset/signal/amplifier.h5', 'vertical', complevel=9)"
   ]
  },
  {
   "cell_type": "markdown",
   "metadata": {},
   "source": [
    "## Intensity Control\n",
    "\n",
    "Now we will conduct a long time measurement to estimate the quality of the intensity control."
   ]
  },
  {
   "cell_type": "code",
   "execution_count": null,
   "metadata": {},
   "outputs": [],
   "source": [
    "def timestamp():\n",
    "    return datetime.now().strftime('%Y-%m-%d_%H%M%S')"
   ]
  },
  {
   "cell_type": "markdown",
   "metadata": {},
   "source": [
    "In the first run we measure about every 130s over night."
   ]
  },
  {
   "cell_type": "code",
   "execution_count": null,
   "metadata": {},
   "outputs": [],
   "source": [
    "time = []\n",
    "voltage = []\n",
    "\n",
    "while True:\n",
    "    scope.single()\n",
    "    \n",
    "    sleep(5)\n",
    "    \n",
    "    control.trigger()\n",
    "    \n",
    "    sleep(5)\n",
    "    \n",
    "    t = timestamp()\n",
    "    U = scope.data(1).voltage.mean()\n",
    "    \n",
    "    time.append(t)\n",
    "    voltage.append(U)\n",
    "    \n",
    "    print(f'measured {U}V at {t}')\n",
    "    \n",
    "    sleep(120)\n",
    "    \n",
    "df = pd.DataFrame({ 'time': times, 'voltage': voltages })\n",
    "df.to_hdf('control.h5', 'long')"
   ]
  },
  {
   "cell_type": "markdown",
   "metadata": {},
   "source": [
    "In the second run we measure every 10s. This is in particular interesting as it tells us how much intensity fluctuates during intensity measurements that take minutes."
   ]
  },
  {
   "cell_type": "code",
   "execution_count": null,
   "metadata": {},
   "outputs": [],
   "source": [
    "time = []\n",
    "voltage = []\n",
    "\n",
    "while True:\n",
    "    scope.single()\n",
    "    \n",
    "    sleep(5)\n",
    "    \n",
    "    control.trigger()\n",
    "    \n",
    "    sleep(5)\n",
    "    \n",
    "    t = timestamp()\n",
    "    U = scope.data(1).voltage.mean()\n",
    "    \n",
    "    time.append(t)\n",
    "    voltage.append(U)\n",
    "    \n",
    "    print(f'measured {U}V at {t}')\n",
    "    \n",
    "df = pd.DataFrame({ 'time': times, 'voltage': voltages })\n",
    "df.to_hdf('control.h5', 'short')"
   ]
  }
 ],
 "metadata": {
  "kernelspec": {
   "display_name": "Python 3",
   "language": "python",
   "name": "python3"
  },
  "language_info": {
   "codemirror_mode": {
    "name": "ipython",
    "version": 3
   },
   "file_extension": ".py",
   "mimetype": "text/x-python",
   "name": "python",
   "nbconvert_exporter": "python",
   "pygments_lexer": "ipython3",
   "version": "3.6.5"
  }
 },
 "nbformat": 4,
 "nbformat_minor": 2
}
